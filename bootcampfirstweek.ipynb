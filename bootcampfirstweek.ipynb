{
  "nbformat": 4,
  "nbformat_minor": 0,
  "metadata": {
    "colab": {
      "name": "bootcampfirstweek.ipynb",
      "provenance": [],
      "authorship_tag": "ABX9TyMQqCkdmKFiTtZP3ksCX2Pa",
      "include_colab_link": true
    },
    "kernelspec": {
      "name": "python3",
      "display_name": "Python 3"
    },
    "language_info": {
      "name": "python"
    }
  },
  "cells": [
    {
      "cell_type": "markdown",
      "metadata": {
        "id": "view-in-github",
        "colab_type": "text"
      },
      "source": [
        "<a href=\"https://colab.research.google.com/github/ferhatemrekoc/Ferhatemrekoc/blob/main/bootcampfirstweek.ipynb\" target=\"_parent\"><img src=\"https://colab.research.google.com/assets/colab-badge.svg\" alt=\"Open In Colab\"/></a>"
      ]
    },
    {
      "cell_type": "code",
      "execution_count": null,
      "metadata": {
        "colab": {
          "base_uri": "https://localhost:8080/"
        },
        "id": "yptQ0hpANn1Q",
        "outputId": "ed8eddf8-4748-4a3b-ff27-0e4e3f664134"
      },
      "outputs": [
        {
          "output_type": "stream",
          "name": "stdout",
          "text": [
            "Enter a String: aa\n",
            "0 consonants were found.\n"
          ]
        }
      ],
      "source": [
        "def ConsonantCount(strParam):\n",
        "  consonants = 0\n",
        "  for i in strParam:\n",
        "    if (i==\"a\" or i==\"e\" or i==\"i\" or i ==\"o\" or i==\"u\" or i==\"A\" or i==\"E\" or i==\"I\" or i==\"O\" or i==\"U\"):\n",
        "      continue\n",
        "    elif i == \" \":\n",
        "      continue\n",
        "    else:\n",
        "      consonants = consonants + 1\n",
        "  # code goes here\n",
        "  \n",
        "  return \"{} consonants were found.\".format(consonants)\n",
        "  \n",
        "\n",
        "# keep this function call here \n",
        "print(ConsonantCount(input(\"Enter a String: \")))"
      ]
    },
    {
      "cell_type": "code",
      "source": [
        "# Prime Time : Have the function PrimeTime(num) take the num parameter being passed and return the string true if the parameter is a prime number, otherwise return the string false. The range will be between 1 and 2^16.\n",
        "def PrimeTime(num):\n",
        "  i = 2\n",
        "  while i < num :\n",
        "    if num % i == 0:\n",
        "      return \"false\"\n",
        "    else:\n",
        "      i += 1\n",
        "  return \"true\" \n",
        "\n",
        "\n",
        "# keep this function call here \n",
        "print(PrimeTime(int(input(\"Value: \"))))"
      ],
      "metadata": {
        "colab": {
          "base_uri": "https://localhost:8080/"
        },
        "id": "ChMDgUX_NpKA",
        "outputId": "7cbc2f0b-8110-4f00-efe2-ba6647f54f85"
      },
      "execution_count": null,
      "outputs": [
        {
          "output_type": "stream",
          "name": "stdout",
          "text": [
            "Value: 6\n",
            "false\n"
          ]
        }
      ]
    },
    {
      "cell_type": "code",
      "source": [
        "\"\"\"Have the function SudokuQuadrantChecker(strArr) read the strArr parameter being passed which will represent a 9x9 Sudoku board of integers ranging from 1 to 9. The rules of Sudoku are to place each of the 9 integers integer in every row and column and not have any integers repeat in the respective row, column, or 3x3 sub-grid. The input strArr will represent a Sudoku board and it will be structured in the following format: [\"(N,N,N,N,N,x,x,x,x)\",\"(...)\",\"(...)\",...)] where N stands for an integer between 1 and 9 and x will stand for an empty cell. Your program will determine if the board is legal; the board also does not necessarily have to be finished. If the board is legal, your program should return the string legal but if it isn't legal, it should return the 3x3 quadrants (separated by commas) where the errors exist. The 3x3 quadrants are numbered from 1 to 9 starting from top-left going to bottom-right.\n",
        "\n",
        "For example, if strArr is: [\"(1,2,3,4,5,6,7,8,1)\",\"(x,x,x,x,x,x,x,x,x)\",\"(x,x,x,x,x,x,x,x,x)\",\"(1,x,x,x,x,x,x,x,x)\",\"(x,x,x,x,x,x,x,x,x)\",\"(x,x,x,x,x,x,x,x,x)\",\"(x,x,x,x,x,x,x,x,x)\",\"(x,x,x,x,x,x,x,x,x)\",\"(x,x,x,x,x,x,x,x,x)\"] then your program should return 1,3,4 since the errors are in quadrants 1, 3 and 4 because of the repeating integer 1.\n",
        "\n",
        "Another example, if strArr is: [\"(1,2,3,4,5,6,7,8,9)\",\"(x,x,x,x,x,x,x,x,x)\",\"(6,x,5,x,3,x,x,4,x)\",\"(2,x,1,1,x,x,x,x,x)\",\"(x,x,x,x,x,x,x,x,x)\",\"(x,x,x,x,x,x,x,x,x)\",\"(x,x,x,x,x,x,x,x,x)\",\"(x,x,x,x,x,x,x,x,x)\",\"(x,x,x,x,x,x,x,x,9)\"] then your program should return 3,4,5,9.\n",
        "Examples\n",
        "Input: [\"(1,2,3,4,5,6,7,8,1)\",\"(x,x,x,x,x,x,x,x,x)\",\"(x,x,x,x,x,x,x,x,x)\",\"(1,x,x,x,x,x,x,x,x)\",\"(x,x,x,x,x,x,x,x,x)\",\"(x,x,x,x,x,x,x,x,x)\",\"(x,x,x,x,x,x,x,x,x)\",\"(x,x,x,x,x,x,x,x,x)\",\"(x,x,x,x,x,x,x,x,x)\"]\n",
        "Output: 1,3,4\n",
        "\n",
        "Have the function SudokuQuadrantChecker(strArr) read the strArr parameter being passed which will represent a 9x9 Sudoku board of integers ranging from 1 to 9. The rules of Sudoku are to place each of the 9 integers integer in every row and column and not have any integers repeat in the respective row, column, or 3x3 sub-grid. The input strArr will represent a Sudoku board and it will be structured in the following format: [\"(N,N,N,N,N,x,x,x,x)\",\"(...)\",\"(...)\",...)] where N stands for an integer between 1 and 9 and x will stand for an empty cell. Your program will determine if the board is legal; the board also does not necessarily have to be finished. If the board is legal, your program should return the string legal but if it isn't legal, it should return the 3x3 quadrants (separated by commas) where the errors exist. The 3x3 quadrants are numbered from 1 to 9 starting from top-left going to bottom-right.\n",
        "\n",
        "For example, if strArr is: [\"(1,2,3,4,5,6,7,8,1)\",\"(x,x,x,x,x,x,x,x,x)\",\"(x,x,x,x,x,x,x,x,x)\",\"(1,x,x,x,x,x,x,x,x)\",\"(x,x,x,x,x,x,x,x,x)\",\"(x,x,x,x,x,x,x,x,x)\",\"(x,x,x,x,x,x,x,x,x)\",\"(x,x,x,x,x,x,x,x,x)\",\"(x,x,x,x,x,x,x,x,x)\"] then your program should return 1,3,4 since the errors are in quadrants 1, 3 and 4 because of the repeating integer 1.\n",
        "\n",
        "Another example, if strArr is: [\"(1,2,3,4,5,6,7,8,9)\",\"(x,x,x,x,x,x,x,x,x)\",\"(6,x,5,x,3,x,x,4,x)\",\"(2,x,1,1,x,x,x,x,x)\",\"(x,x,x,x,x,x,x,x,x)\",\"(x,x,x,x,x,x,x,x,x)\",\"(x,x,x,x,x,x,x,x,x)\",\"(x,x,x,x,x,x,x,x,x)\",\"(x,x,x,x,x,x,x,x,9)\"] then your program should return 3,4,5,9.\n",
        "\"\"\""
      ],
      "metadata": {
        "id": "stVPqHUUU8rc"
      },
      "execution_count": null,
      "outputs": []
    }
  ]
}